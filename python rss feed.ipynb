{
 "cells": [
  {
   "cell_type": "code",
   "execution_count": 1,
   "metadata": {
    "collapsed": false
   },
   "outputs": [],
   "source": [
    "import feedparser\n",
    "from var_dump import var_dump\n",
    "from bs4 import BeautifulSoup\n",
    "import hashlib\n",
    "from datetime import datetime\n",
    "import random\n",
    "import codecs\n",
    "import urllib\n",
    "from urllib.parse import unquote"
   ]
  },
  {
   "cell_type": "code",
   "execution_count": 2,
   "metadata": {
    "collapsed": true
   },
   "outputs": [],
   "source": [
    "newestate='https://www.google.com/alerts/feeds/13890113926784079358/5812688659442188341'\n",
    "id4=\"https://www.google.com/alerts/feeds/13890113926784079358/9565973101079661589\""
   ]
  },
  {
   "cell_type": "code",
   "execution_count": 7,
   "metadata": {
    "collapsed": true
   },
   "outputs": [],
   "source": [
    "d = feedparser.parse(newestate)"
   ]
  },
  {
   "cell_type": "code",
   "execution_count": 8,
   "metadata": {
    "collapsed": false
   },
   "outputs": [
    {
     "name": "stdout",
     "output_type": "stream",
     "text": [
      "Google Alert - \"เขตเศรษฐกิจพิเศษ\"\n"
     ]
    }
   ],
   "source": [
    "print (d['feed']['title'])"
   ]
  },
  {
   "cell_type": "code",
   "execution_count": 9,
   "metadata": {
    "collapsed": false
   },
   "outputs": [
    {
     "name": "stdout",
     "output_type": "stream",
     "text": [
      "8\n"
     ]
    }
   ],
   "source": [
    "print (len(d['entries']))"
   ]
  },
  {
   "cell_type": "code",
   "execution_count": 11,
   "metadata": {
    "collapsed": true
   },
   "outputs": [],
   "source": [
    "def decode_thai_url(url):\n",
    "    lik=urllib.parse.unquote(url)\n",
    "    se=lik.split(\"&\")   \n",
    "    jim=se[2].replace(\"url=\",\"\")\n",
    "    return urllib.parse.unquote(jim)"
   ]
  },
  {
   "cell_type": "markdown",
   "metadata": {},
   "source": [
    "Create csv file"
   ]
  },
  {
   "cell_type": "code",
   "execution_count": 13,
   "metadata": {
    "collapsed": false
   },
   "outputs": [],
   "source": [
    "destination=\"D:/search/logstash-5.2.1/bin/steep2.csv\"\n",
    "\n",
    "for se in d['entries']:       \n",
    "    text_file = codecs.open(destination, \"a\", 'UTF-8')\n",
    "    title=str(BeautifulSoup(se['title'], \"lxml\").text)            \n",
    "    summary=str(BeautifulSoup(se['summary'], \"lxml\").text)\n",
    "    link=decode_thai_url(se['link'])\n",
    "    publish=str(se['published'])\n",
    "    timestamp= str(datetime.now())\n",
    "    ran=str(random.randrange(10))\n",
    "    id=str(se['published']+ran)\n",
    "    text_file.write(title+\",\"+summary+\",\"+link+\",\"+publish+\",\"+timestamp+\"\\n\")\n",
    "    text_file.close()"
   ]
  },
  {
   "cell_type": "code",
   "execution_count": 12,
   "metadata": {
    "collapsed": false
   },
   "outputs": [
    {
     "name": "stdout",
     "output_type": "stream",
     "text": [
      "Google Alert - \"เขตเศรษฐกิจพิเศษ\"\n",
      "==========\n",
      "รมว.พาณิชย์เมียนมาเป็นประธานพิธีก่อสร้างส่วนต่อขยายโครงการเขตเศรษฐกิจพิเศษทิลาวา\n",
      "2017-02-24T17:20:36Z 2\n",
      "2017-02-24T17:20:36Z9\n",
      "พาณิชย์เมียนมา ได้เป็นประธานในพิธีก่อสร้างส่วนต่อขยายของโครงการเขตเศรษฐกิจพิเศษทิลาวาใกล้กับกรุงย่างกุ้งในวันนี้. นายมินท์ได้กล่าวขอบคุณรัฐบาลญี่ปุ่น ...\n",
      "-----------------------------------------------------------------\n",
      "ทางหลวง'หนองเอี่ยน-สตึงบท'เชื่อมสระแก้วสู่กัมพูชา\n",
      "2017-02-24T08:02:24Z 5\n",
      "2017-02-24T08:02:24Z7\n",
      "โครงการพัฒนาทางหลวงเพื่อสนับสนุนเขตเศรษฐกิจพิเศษ สาย อ.อรัญประเทศ – ชายแดนไทย/กัมพูชา(หนองเอี่ยน -สตึงบท) จ.\n",
      "-----------------------------------------------------------------\n",
      "แจง IMF เร่งปฏิรูป-ผลักดันเศรษฐกิจจากภายใน\n",
      "2017-02-24T05:29:52Z 7\n",
      "2017-02-24T05:29:52Z0\n",
      "... ยังส่งเสริมการลงทุนจากต่างประเทศ ควบคู่กับการสร้างแรงจูงใจให้เอกชนลงทุนในโครงการโครงสร้างพื้นฐาน และโครงการพัฒนาเขตเศรษฐกิจพิเศษภาคตะวันออก หรือ ...\n",
      "-----------------------------------------------------------------\n",
      "ราคาทอง\n",
      "2017-02-24T05:15:00Z 9\n",
      "2017-02-24T05:15:00Z2\n",
      "ค. 2560. ส่วนความคืบหน้าในการก่อสร้างโรงงานผลิตเสาไฟฟ้าแรงสูง เสาสื่อสารโทรคมนาคม และบริการชุบกัลวาไนซ์ (สังกะสี) ที่เขตเศรษฐกิจพิเศษติลาวา ...\n",
      "-----------------------------------------------------------------\n",
      "SCI มองแนวโน้มปี 60 โตก้าวกระโดดจากทยอยรับรู้ฯงานในมือ เชื่องานเสาโทรคมฯ-ตู้สวิทช์บอร์ดโตแกร่ง\n",
      "2017-02-24T04:32:56Z 1\n",
      "2017-02-24T04:32:56Z6\n",
      "ส่วนความคืบหน้าในการก่อสร้างโรงงานผลิตเสาไฟฟ้าแรงสูง เสาสื่อสารโทรคมนาคม และบริการชุบกัลวาไนซ์ (สังกะสี) ที่เขตเศรษฐกิจพิเศษติลาวา เมียนมาร์ ...\n",
      "-----------------------------------------------------------------\n",
      "พลัสฯชี้อสังหาโตต่อตลาดบนแข่ง'เดือด'บ้านเดี่ยวแสนสิริรุ่ง\n",
      "2017-02-24T01:05:07Z 0\n",
      "2017-02-24T01:05:07Z1\n",
      "... ซึ่งมีแนวโน้มดีขึ้นเล็กน้อย ตามปัจจัยบวกจากโครงการลงทุนของภาครัฐ โดยเฉพาะรถไฟฟ้าเส้นทางต่างๆ รวมถึงการพัฒนา พื้นที่เขตเศรษฐกิจพิเศษในต่างจังหวัด.\n",
      "-----------------------------------------------------------------\n",
      "กนอ.เตรียมเปิดศูนย์อนุมัติอนุญาตครบวงจรที่นิคมฯ แหลมฉบังหนุนบริการในพื้นที่ EEC\n",
      "2017-02-23T12:22:30Z 7\n",
      "2017-02-23T12:22:30Z5\n",
      "... เพื่อให้บริการด้านการอนุมัติ อนุญาต แบบครบวงจร (One Stop Service) แก่นักลงทุนภายใต้โครงการการพัฒนาพื้นที่ระเบียงเขตเศรษฐกิจพิเศษภาคตะวันออก (EEC) ใน ...\n",
      "-----------------------------------------------------------------\n",
      "ข่าวประชาสัมพันธ์อสังหาฯ\n",
      "2017-02-23T09:22:30Z 2\n",
      "2017-02-23T09:22:30Z4\n",
      "... ตามปัจจัยบวกจากโครงการลงทุนโครงข่ายคมนาคมของภาครัฐ โดยเฉพาะรถไฟฟ้าเส้นทางต่างๆ รวมถึงการพัฒนาพื้นที่เขตเศรษฐกิจพิเศษในต่างจังหวัด\n",
      "-----------------------------------------------------------------\n"
     ]
    }
   ],
   "source": [
    "print (d['feed']['title'])\n",
    "print(\"==========\")\n",
    "for se in d['entries']:\n",
    "    \n",
    "    title=BeautifulSoup(se['title'], \"lxml\").text\n",
    "    print(title)\n",
    "    hash_object = hashlib.md5(title.encode('utf-8'))\n",
    "    #print(hash_object.hexdigest())\n",
    "    print (se['published'],random.randrange(10) )\n",
    "    #print(se['summary'])\n",
    "    ran=str(random.randrange(10))\n",
    "    print(str(se['published']+ran))\n",
    "    link=(se['link'])\n",
    "    decode_thai_url(link)\n",
    "    #print(link)\n",
    "    soup = BeautifulSoup(se['summary'], \"lxml\")\n",
    "    cleantext = soup.text\n",
    "    print(cleantext)\n",
    "    print(\"-----------------------------------------------------------------\")"
   ]
  },
  {
   "cell_type": "code",
   "execution_count": 16,
   "metadata": {
    "collapsed": false
   },
   "outputs": [
    {
     "name": "stdout",
     "output_type": "stream",
     "text": [
      "ธพว. ย้ายที่ทำการสาขาตาก จากอำเภอเมือง ไปยัง “อำเภอแม่สอด” หนุน ผปก. SMEs รุกค้าขายใน<b>เขตเศรษฐกิจ</b> ...\n"
     ]
    }
   ],
   "source": [
    "print (d['entries'][0]['title'] )"
   ]
  },
  {
   "cell_type": "code",
   "execution_count": 56,
   "metadata": {
    "collapsed": false
   },
   "outputs": [
    {
     "name": "stdout",
     "output_type": "stream",
     "text": [
      "{'links': [{'href': 'https://www.google.com/url?rct=j&sa=t&url=http://www.tnnthailand.com/news_detail.php%3Fid%3D129104%26t%3Dnews&ct=ga&cd=CAIyGjRmMmVhNjZmMTExNDUzYTU6Y29tOnRoOlRI&usg=AFQjCNGPlERIQ580sf-Ou7rrMyEesTyr4A', 'rel': 'alternate', 'type': 'text/html'}], 'published_parsed': time.struct_time(tm_year=2017, tm_mon=2, tm_mday=17, tm_hour=4, tm_min=7, tm_sec=16, tm_wday=4, tm_yday=48, tm_isdst=0), 'authors': [{'name': ''}], 'title_detail': {'language': None, 'value': 'ไทย-อาร์เจนตินา หารือขยายการค้า-ลงทุน', 'base': 'https://www.google.com/alerts/feeds/13890113926784079358/5812688659442188341', 'type': 'text/html'}, 'author_detail': {'name': ''}, 'content': [{'language': None, 'value': '... ซึ่งในส่วนของไทยก็ได้เชิญชวนให้นักธุรกิจอาร์เจนตินาเข้ามาลงทุนในพื้นที่<b>เขตเศรษฐกิจ</b><b>พิเศษ</b>ภาคตะวันออก (EEC) ซึ่งจะได้สิทธิประโยชน์การลงทุนเพิ่มมากขึ้น&nbsp;...', 'base': 'https://www.google.com/alerts/feeds/13890113926784079358/5812688659442188341', 'type': 'text/html'}], 'title': 'ไทย-อาร์เจนตินา หารือขยายการค้า-ลงทุน', 'updated_parsed': time.struct_time(tm_year=2017, tm_mon=2, tm_mday=17, tm_hour=4, tm_min=7, tm_sec=16, tm_wday=4, tm_yday=48, tm_isdst=0), 'published': '2017-02-17T04:07:16Z', 'updated': '2017-02-17T04:07:16Z', 'guidislink': True, 'id': 'tag:google.com,2013:googlealerts/feed:6353864823809953619', 'author': '', 'summary': '... ซึ่งในส่วนของไทยก็ได้เชิญชวนให้นักธุรกิจอาร์เจนตินาเข้ามาลงทุนในพื้นที่<b>เขตเศรษฐกิจ</b><b>พิเศษ</b>ภาคตะวันออก (EEC) ซึ่งจะได้สิทธิประโยชน์การลงทุนเพิ่มมากขึ้น&nbsp;...', 'link': 'https://www.google.com/url?rct=j&sa=t&url=http://www.tnnthailand.com/news_detail.php%3Fid%3D129104%26t%3Dnews&ct=ga&cd=CAIyGjRmMmVhNjZmMTExNDUzYTU6Y29tOnRoOlRI&usg=AFQjCNGPlERIQ580sf-Ou7rrMyEesTyr4A'}\n"
     ]
    }
   ],
   "source": [
    "print (d['entries'][1] )"
   ]
  },
  {
   "cell_type": "code",
   "execution_count": 34,
   "metadata": {
    "collapsed": false
   },
   "outputs": [
    {
     "name": "stdout",
     "output_type": "stream",
     "text": [
      "SMEs รุกค้าขายใน<b>เขตเศรษฐกิจพิเศษ</b> ... SMEs ที่จะเข้าไปค้าขายกับประเทศเพื่อนบ้าน ตามนโยบายรัฐบาลที่ต้องการให้อำเภอแม่สอดเป็น<b>เขตเศรษฐกิจพิเศษ</b>&nbsp;...\n"
     ]
    }
   ],
   "source": [
    "print (d['entries'][0]['summary'] )"
   ]
  },
  {
   "cell_type": "code",
   "execution_count": 33,
   "metadata": {
    "collapsed": false
   },
   "outputs": [
    {
     "name": "stdout",
     "output_type": "stream",
     "text": [
      "https://www.google.com/url?rct=j&sa=t&url=http://www.ryt9.com/s/prg/2602683&ct=ga&cd=CAIyGjRmMmVhNjZmMTExNDUzYTU6Y29tOnRoOlRI&usg=AFQjCNGTYeIM7b13oqTzXFvy3g6DCtixjQ\n"
     ]
    }
   ],
   "source": [
    "print (d['entries'][0]['link'] )"
   ]
  },
  {
   "cell_type": "code",
   "execution_count": 57,
   "metadata": {
    "collapsed": false
   },
   "outputs": [
    {
     "name": "stdout",
     "output_type": "stream",
     "text": [
      "time.struct_time(tm_year=2017, tm_mon=2, tm_mday=17, tm_hour=4, tm_min=13, tm_sec=46, tm_wday=4, tm_yday=48, tm_isdst=0)\n"
     ]
    }
   ],
   "source": [
    "print (d['entries'][0]['published_parsed'] )"
   ]
  },
  {
   "cell_type": "code",
   "execution_count": 61,
   "metadata": {
    "collapsed": false
   },
   "outputs": [],
   "source": [
    "dt=d['entries'][0]['published_parsed']"
   ]
  },
  {
   "cell_type": "code",
   "execution_count": 76,
   "metadata": {
    "collapsed": false,
    "scrolled": true
   },
   "outputs": [
    {
     "name": "stdout",
     "output_type": "stream",
     "text": [
      "2017-02-16 02:03:45\n"
     ]
    }
   ],
   "source": [
    "s = \"2016-03-26T09:25:55.000Z\"\n",
    "s = \"2017-02-16T02:03:45Z\"\n",
    "f = \"%Y-%m-%dT%H:%M:%SZ\"\n",
    "datetime = datetime.strptime(s, f)\n",
    "print(datetime)"
   ]
  },
  {
   "cell_type": "code",
   "execution_count": 88,
   "metadata": {
    "collapsed": false
   },
   "outputs": [
    {
     "data": {
      "text/plain": [
       "6"
      ]
     },
     "execution_count": 88,
     "metadata": {},
     "output_type": "execute_result"
    }
   ],
   "source": [
    "random.randrange(10)"
   ]
  },
  {
   "cell_type": "code",
   "execution_count": 160,
   "metadata": {
    "collapsed": false
   },
   "outputs": [],
   "source": [
    "url=\"http://www.thaipost.net/?q=%E0%B9%80%E0%B8%94%E0%B8%B4%E0%B8%99%E0%B8%AB%E0%B8%99%E0%B9%89%E0%B8%B2%E0%B9%82%E0%B8%A3%E0%B8%87%E0%B9%84%E0%B8%9F%E0%B8%9F%E0%B9%89%E0%B8%B2%E0%B8%96%E0%B9%88%E0%B8%B2%E0%B8%99%E0%B8%AB%E0%B8%B4%E0%B8%99-%E0%B8%88%E0%B8%B1%E0%B8%9A%E0%B8%95%E0%B8%B2%E0%B8%A1%E0%B8%95%E0%B8%B4%E0%B8%81%E0%B8%9E%E0%B8%8A%E0%B9%80%E0%B8%84%E0%B8%B2%E0%B8%B017%E0%B8%81%E0%B8%9E\"\n",
    "url1=\"https://www.google.com/url?rct=j&sa=t&url=http://www.thaipost.net/%3Fq%3D%25E0%25B9%2580%25E0%25B8%2594%25E0%25B8%25B4%25E0%25B8%2599%25E0%25B8%25AB%25E0%25B8%2599%25E0%25B9%2589%25E0%25B8%25B2%25E0%25B9%2582%25E0%25B8%25A3%25E0%25B8%2587%25E0%25B9%2584%25E0%25B8%259F%25E0%25B8%259F%25E0%25B9%2589%25E0%25B8%25B2%25E0%25B8%2596%25E0%25B9%2588%25E0%25B8%25B2%25E0%25B8%2599%25E0%25B8%25AB%25E0%25B8%25B4%25E0%25B8%2599-%25E0%25B8%2588%25E0%25B8%25B1%25E0%25B8%259A%25E0%25B8%2595%25E0%25B8%25B2%25E0%25B8%25A1%25E0%25B8%2595%25E0%25B8%25B4%25E0%25B8%2581%25E0%25B8%259E%25E0%25B8%258A%25E0%25B9%2580%25E0%25B8%2584%25E0%25B8%25B2%25E0%25B8%25B017%25E0%25B8%2581%25E0%25B8%259E&ct=ga&cd=CAIyGjRmMmVhNjZmMTExNDUzYTU6Y29tOnRoOlRI&usg=AFQjCNFtSz4WCH4N773iUFkpC50Oip2pCw\"\n",
    "def decode_thai_url(url):\n",
    "    lik=urllib.parse.unquote(url)\n",
    "    se=lik.split(\"&\")   \n",
    "    jim=se[2].replace(\"url=\",\"\")\n",
    "    return print(urllib.parse.unquote(jim))"
   ]
  },
  {
   "cell_type": "code",
   "execution_count": 161,
   "metadata": {
    "collapsed": false
   },
   "outputs": [
    {
     "name": "stdout",
     "output_type": "stream",
     "text": [
      "http://www.thaipost.net/?q=เดินหน้าโรงไฟฟ้าถ่านหิน-จับตามติกพชเคาะ17กพ\n"
     ]
    }
   ],
   "source": [
    "decode_thai_url(url1)"
   ]
  },
  {
   "cell_type": "code",
   "execution_count": null,
   "metadata": {
    "collapsed": true
   },
   "outputs": [],
   "source": []
  }
 ],
 "metadata": {
  "kernelspec": {
   "display_name": "Python 3",
   "language": "python",
   "name": "python3"
  },
  "language_info": {
   "codemirror_mode": {
    "name": "ipython",
    "version": 3
   },
   "file_extension": ".py",
   "mimetype": "text/x-python",
   "name": "python",
   "nbconvert_exporter": "python",
   "pygments_lexer": "ipython3",
   "version": "3.5.1"
  }
 },
 "nbformat": 4,
 "nbformat_minor": 0
}
